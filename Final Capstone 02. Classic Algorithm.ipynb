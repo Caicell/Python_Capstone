{
 "cells": [
  {
   "cell_type": "markdown",
   "metadata": {
    "collapsed": true
   },
   "source": [
    "## Complete Python BootCamp: Go from zero to hero in Python\n",
    "https://goo.gl/EJMxnO\n",
    "\n",
    "### Final Project02. Classic Algorithm\n",
    "    1. (Done)Collatz Conjecture - Start with a number n > 1. Find the number of steps it takes to reach one using the following process: If n is even, divide it by 2. If n is odd, multiply it by 3 and add 1.\n",
    "    2. (Done)Sorting - mergeSort, bubble, selection, insertion sort\n",
    "    3. Closest pair problem - The closest pair of points problem or closest pair problem is a problem of computational geometry: given n points in metric space, find a pair of points with the smallest distance between them.\n",
    "    4. Sieve of Eratosthenes - The sieve of Eratosthenes is one of the most efficient ways to find all of the smaller primes (below 10 million or so).\n",
    "    "
   ]
  },
  {
   "cell_type": "code",
   "execution_count": 1,
   "metadata": {
    "collapsed": true
   },
   "outputs": [],
   "source": [
    "def collatz_conjecture(n):\n",
    "    step = 0\n",
    "    while n > 1:\n",
    "        if n % 2 == 0:\n",
    "            n = n//2\n",
    "        else:\n",
    "            n = 3*n+1\n",
    "        step += 1\n",
    "    return step"
   ]
  },
  {
   "cell_type": "code",
   "execution_count": 2,
   "metadata": {
    "collapsed": false
   },
   "outputs": [
    {
     "data": {
      "text/plain": [
       "7"
      ]
     },
     "execution_count": 2,
     "metadata": {},
     "output_type": "execute_result"
    }
   ],
   "source": [
    "collatz_conjecture(3)"
   ]
  },
  {
   "cell_type": "code",
   "execution_count": 3,
   "metadata": {
    "collapsed": true
   },
   "outputs": [],
   "source": [
    "def merge_sort(lst):\n",
    "    if not lst: return\n",
    "    divide(lst,0, len(lst)-1)\n",
    "    return lst\n",
    "\n",
    "def divide(lst,i,j):\n",
    "    if j < i: return\n",
    "    if i == j: return [lst[i]]\n",
    "    mid = (i+j) // 2\n",
    "    divide(lst,i,mid)\n",
    "    divide(lst,mid+1,j)\n",
    "    lst[i:j+1] = merge(lst[i:mid+1], lst[mid+1:j+1])\n",
    "    \n",
    "def merge(lst1, lst2):\n",
    "    lst = []\n",
    "    i,j = 0,0\n",
    "    n_1, n_2 = len(lst1), len(lst2)\n",
    "    while i < n_1 and j < n_2:\n",
    "        if lst1[i] < lst2[j]:\n",
    "            lst.append(lst1[i])\n",
    "            i += 1\n",
    "        else:\n",
    "            lst.append(lst2[j])\n",
    "            j += 1\n",
    "    \n",
    "    while i < n_1:\n",
    "        lst.append(lst1[i])\n",
    "        i += 1\n",
    "    while j < n_2:\n",
    "        lst.append(lst2[j])\n",
    "        j += 1\n",
    "    \n",
    "    return lst"
   ]
  },
  {
   "cell_type": "code",
   "execution_count": 4,
   "metadata": {
    "collapsed": true
   },
   "outputs": [],
   "source": [
    "def bubble_sort(lst):\n",
    "    \n",
    "    for i in reversed(range(len(st))):\n",
    "        #The End Position i\n",
    "        for j in range(i):\n",
    "            if lst[j+1] < lst[j]:\n",
    "                lst[j+1], lst[j] = lst[j], lst[j+1]\n",
    "    return lst\n",
    "\n",
    "def selection_sort(lst):\n",
    "    for i in range(len(lst)):\n",
    "        min_pos = i\n",
    "        for j in range(i, len(lst)):\n",
    "            if lst[j] < lst[min_pos]:\n",
    "                min_pos = j\n",
    "        lst[i], lst[min_pos] = lst[min_pos], lst[i]\n",
    "    return lst\n",
    "\n",
    "def insertion_sort(lst):\n",
    "    for i in range(len(lst)):\n",
    "        key = lst[i]\n",
    "        fit_pos = 0\n",
    "        for j in reversed(range(i)):\n",
    "            if x[j] > key: x[j+1] = x[j]\n",
    "            if x[j] <= key: \n",
    "                fit_pos = j+1\n",
    "                break\n",
    "        lst[fit_pos] = key\n",
    "    return lst"
   ]
  },
  {
   "cell_type": "code",
   "execution_count": null,
   "metadata": {
    "collapsed": true
   },
   "outputs": [],
   "source": []
  }
 ],
 "metadata": {
  "anaconda-cloud": {},
  "kernelspec": {
   "display_name": "Python [conda env:Anaconda3]",
   "language": "python",
   "name": "conda-env-Anaconda3-py"
  },
  "language_info": {
   "codemirror_mode": {
    "name": "ipython",
    "version": 3
   },
   "file_extension": ".py",
   "mimetype": "text/x-python",
   "name": "python",
   "nbconvert_exporter": "python",
   "pygments_lexer": "ipython3",
   "version": "3.5.2"
  }
 },
 "nbformat": 4,
 "nbformat_minor": 2
}
