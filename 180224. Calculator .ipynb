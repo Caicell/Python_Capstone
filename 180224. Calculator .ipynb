{
 "cells": [
  {
   "cell_type": "code",
   "execution_count": 1,
   "metadata": {
    "collapsed": true
   },
   "outputs": [],
   "source": [
    "class Calculator(object):\n",
    "    def __init__(self):\n",
    "        self.strings = None\n",
    "        \n",
    "    def __call__(self, strings):\n",
    "        self.strings = strings\n",
    "        if self._product_checker():\n",
    "            calcul = Parser(self.strings)    \n",
    "        else:\n",
    "            calcul = PlusMins(self.strings)\n",
    "        return calcul.result()\n",
    "            \n",
    "    def _product_checker(self):\n",
    "        operator = (\"*/\")\n",
    "        for x in self.strings:\n",
    "            if x in operator:\n",
    "                return True\n",
    "        return False\n",
    "\n",
    "class PlusMins(object):\n",
    "    def __init__(self, strings):\n",
    "        self.strings = strings\n",
    "        \n",
    "    def _result(self):\n",
    "        strings = self.strings\n",
    "        cum_num = 0\n",
    "        operator_set = [1]\n",
    "        operator = (\"+-\")\n",
    "        nums = (\"0123456789\")\n",
    "        i, n = 0, len(strings)\n",
    "        while i < n:\n",
    "            char = strings[i]\n",
    "            if char == \" \":\n",
    "                i += 1\n",
    "                continue\n",
    "                \n",
    "            if char == \"+\":\n",
    "                operator_set.append(operator_set[-1])\n",
    "            elif char == \"-\":\n",
    "                operator_set.append(-operator_set[-1])\n",
    "            elif char == \"(\":\n",
    "                operator_set.append(operator_set[-1])\n",
    "            elif char == \")\":\n",
    "                operator_set.pop()\n",
    "            elif char in nums:\n",
    "                init = i\n",
    "                while i < n and strings[i] in nums: i += 1\n",
    "                cum_num = self._operator(operator_set.pop(), cum_num, strings[init:i])\n",
    "            i += 1            \n",
    "        return cum_num\n",
    "    \n",
    "    def _operator(self, sign, cum, val):\n",
    "        return cum + val if sign == 1 else cum - val\n",
    "\n",
    "class Product(object):\n",
    "    def __init__(self, strings):\n",
    "        self.strings = strings\n",
    "        \n",
    "    def result(self):\n",
    "        strings = self.strings\n",
    "        i, n = 0, len(strings)\n",
    "        operator = (\"+-\")\n",
    "        operator_p = (\"*/\")\n",
    "        nums = (\"0123456789\")\n",
    "            \n",
    "        new_val, i = self.get_number(strings, i, n)\n",
    "        storage = [[0, new_val], [0, new_val]]\n",
    "        while i < n:   \n",
    "            if strings[i] in operator:\n",
    "                storage = storage[0]\n",
    "                new_val, i = self.get_number(strings, i, n)\n",
    "                storage = [[0, storage[1]+new_val], [storage[1], new_val]]\n",
    "            elif strings[i] in operator_p:\n",
    "                storage = storage[1]\n",
    "                char = strings[i]\n",
    "                i += 1\n",
    "                new_val, i = self.get_number(strings, i, n)\n",
    "                if char == \"*\": storage = [[0, storage[0]+storage[1]*new_val] , [storage[0], storage[1]*new_val]]\n",
    "                else: storage = [[0, storage[0]+storage[1]/new_val] , [storage[0], storage[1]/new_val]]\n",
    "        val = sum(storage[0])\n",
    "        return val\n",
    "\n",
    "    def get_number(self,strings, i, n):\n",
    "        nums = (\"0123456789\")\n",
    "        part_i = i\n",
    "        i += 1\n",
    "        while i < n and strings[i] in nums:\n",
    "            i += 1\n",
    "        return int(strings[part_i:i]),i\n",
    "            \n",
    "\n",
    "class Parser(object):\n",
    "    def __init__(self, strings):\n",
    "        self.strings = strings\n",
    "        \n",
    "    def result(self):\n",
    "        operations = \"+-*/\"\n",
    "        strings = self.strings\n",
    "        i_pos = 0\n",
    "        while True:\n",
    "            i_pos = self.checker_bracket(strings, i_pos)\n",
    "            if i_pos == -1: break      \n",
    "            stack = [i_pos]\n",
    "            i_pos += 1\n",
    "            while stack:\n",
    "                if strings[i_pos] == \"(\":\n",
    "                    stack.append(i_pos)\n",
    "                elif strings[i_pos] == \")\":\n",
    "                    head = stack.pop()\n",
    "                    strings = strings[:head] + str(Product(strings[head+1:i_pos]).result()) + strings[i_pos+1:]\n",
    "                    i_pos = head\n",
    "                i_pos += 1\n",
    "        return Product(strings).result()\n",
    "        \n",
    "    def checker_bracket(self, strings, i):\n",
    "        n = len(strings)\n",
    "        for ix in range(i, n):\n",
    "            if strings[ix] == \"(\":\n",
    "                return ix            \n",
    "        return -1"
   ]
  },
  {
   "cell_type": "code",
   "execution_count": 2,
   "metadata": {
    "collapsed": false
   },
   "outputs": [
    {
     "data": {
      "text/plain": [
       "-23"
      ]
     },
     "execution_count": 2,
     "metadata": {},
     "output_type": "execute_result"
    }
   ],
   "source": [
    "test = Calculator()\n",
    "test(\"3*10+7-6*(10-9+(4+5))\")"
   ]
  },
  {
   "cell_type": "code",
   "execution_count": null,
   "metadata": {
    "collapsed": true
   },
   "outputs": [],
   "source": []
  }
 ],
 "metadata": {
  "kernelspec": {
   "display_name": "Python [conda env:Anaconda3]",
   "language": "python",
   "name": "conda-env-Anaconda3-py"
  },
  "language_info": {
   "codemirror_mode": {
    "name": "ipython",
    "version": 3
   },
   "file_extension": ".py",
   "mimetype": "text/x-python",
   "name": "python",
   "nbconvert_exporter": "python",
   "pygments_lexer": "ipython3",
   "version": "3.5.2"
  }
 },
 "nbformat": 4,
 "nbformat_minor": 2
}
