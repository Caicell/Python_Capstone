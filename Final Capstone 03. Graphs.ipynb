{
 "cells": [
  {
   "cell_type": "markdown",
   "metadata": {},
   "source": [
    "## Complete Python BootCamp: Go from zero to hero in Python\n",
    "https://goo.gl/EJMxnO\n",
    "\n",
    "### Final Project03. Graphs\n",
    "    1. Eulerdian Path \n",
    "    - Create a program which will take as an input a graph and output either a Eulerian path or a Eulerian cycle, or state that it is not possible.\n",
    "    2. Connected Graph - Create a program which takes a graph as an input and outputs whether every node is connected or not.\n",
    "    3. Dijkstra’s Algorithm - Create a program that finds the shortest path through a graph using its edges.\n",
    "    4. Minimum Spanning Tree - (bellman_ford, floyd, kruskal) : Create a program which takes a connected, undirected graph with weights and outputs the minimum spanning tree of the graph\n",
    "    "
   ]
  },
  {
   "cell_type": "code",
   "execution_count": 3,
   "metadata": {
    "collapsed": true
   },
   "outputs": [],
   "source": [
    "def euleridan_checker(matrix, undirected = None):\n",
    "    if undirected is None:\n",
    "        undirected = True\n",
    "    if connect_graph(matrix):\n",
    "        if undirected:\n",
    "            return euleridian_path_cycle(matrix)\n",
    "        else:\n",
    "            return euleridian_path_cycle2(matrix)\n",
    "    return 'Nothing'\n",
    "\n",
    "def euleridian_path_cycle(matrix):\n",
    "    if undirected is None:\n",
    "        undirected = True\n",
    "    n = len(matrix)\n",
    "    cnt_lst = []\n",
    "    for i in range(n):\n",
    "        cnt = 0\n",
    "        for j in range(n):\n",
    "            if i != j and matrix[i][j] > 0: cnt += 1\n",
    "        cnt_lst.append(cnt)\n",
    "    path_or_cycle = sum(x % 2 for x in cnt_lst)\n",
    "    if path_or_cycle == 0: return 'Cycle'\n",
    "    elif path_or_cycle == 2: return 'Path'\n",
    "    else: return 'Nothing'\n",
    "    \n",
    "\n",
    "def euleridian_path_cycle2(matrix):\n",
    "    out_cnt_lst = []\n",
    "    in_cnt_lst = []\n",
    "    for i in range(n):\n",
    "        in_cnt = 0\n",
    "        out_cnt = 0\n",
    "        for j in range(n):\n",
    "            if i != j and matrix[j][i] > 0: in_cnt += 1\n",
    "            if i != j and matrix[i][j] > 0: out_cnt += 1\n",
    "        out_cnt_lst.append(out_cnt)\n",
    "        in_cnt_lst.append(in_cnt)\n",
    "    path_or_cycle = sum(x==y for x, y in zip(out_cnt_lst, in_cnt_lst))\n",
    "    if path_or_cycle == n: return 'Cycle'\n",
    "    elif path_or_cycle == n -1 : return 'Path'\n",
    "    else: return 'Nothing'\n"
   ]
  },
  {
   "cell_type": "code",
   "execution_count": 4,
   "metadata": {
    "collapsed": true
   },
   "outputs": [],
   "source": [
    "def connect_Graph(matrix):\n",
    "    #Does Closed Cycle exist?\n",
    "    #- By directoin\n",
    "    closed_length = 1\n",
    "    visited = set([0])\n",
    "    non_visited = set(x for x in len(matrix) if x != 0)\n",
    "    for _ in range(len(matrix)):\n",
    "        new_track = [yet_node for st_node in visited for yet_node in non_visited if matrix[st_node][yet_node] > 0]\n",
    "        visited = set(new_track)\n",
    "        non_visited = non_visited - visited\n",
    "        closed_length += len(new_track)\n",
    "    \n",
    "    return True if closed_length == len(matrix) else False\n"
   ]
  },
  {
   "cell_type": "code",
   "execution_count": 5,
   "metadata": {
    "collapsed": true
   },
   "outputs": [],
   "source": [
    "import heapq\n",
    "def dijkstra(matrix, source):\n",
    "    n = len(matrix)\n",
    "    q = []\n",
    "    memo = [0] * n\n",
    "    prv = [None] * n\n",
    "    \n",
    "    for i in range(n):\n",
    "        if i != source: memo[i] = 100\n",
    "        heapq.heappush(q,(i, memo[i]))\n",
    "    \n",
    "    while q:\n",
    "        u, u_dist = heapq.heappop(q)\n",
    "        for v, dist in q:\n",
    "            if matrix[u][v] > 0:\n",
    "                alt = u_dist + matrix[u][v]\n",
    "                if alt < dist:\n",
    "                    memo[v] = alt\n",
    "                    prv[v] = u\n",
    "                    \n",
    "    return memo, prv"
   ]
  },
  {
   "cell_type": "code",
   "execution_count": 6,
   "metadata": {
    "collapsed": true
   },
   "outputs": [],
   "source": [
    "def bellman_ford(matrix, source, vmax = 100):\n",
    "    n = len(matrix)\n",
    "    dist, prv = [vmax]*n, [None]*n\n",
    "    dist[source] = 0\n",
    "    \n",
    "    for i in range(n-1):\n",
    "        for st in range(n):\n",
    "            for ed in range(st+1,n):\n",
    "                if matrix[st][ed] > 0 and dist[st] + matrix[st][ed] < dist[ed]:\n",
    "                    dist[ed] = dist[st] + matrix[st][ed]\n",
    "                    prv[ed] = st\n",
    "    return dist, prv\n",
    "    \n",
    "    \n",
    "    \n",
    "def floyd(matrix):\n",
    "    # get memo[0][len(matrix)-1]\n",
    "    n = len(matrix)\n",
    "    memo = [x[:] for x in matrix]\n",
    "    prv = [[0]*n for _ in range(n)]\n",
    "    for i in range(n):\n",
    "        for pos in range(n):\n",
    "            for pos2 in range(n):\n",
    "                if memo[pos][pos2] < memo[pos][i] + memo[i][pos2]:\n",
    "                    memo[pos][pos2] = memo[pos][i] + memo[i][pos2]\n",
    "                    prv[pos][pos2] = pos\n",
    "    return memo, prv\n",
    "\n",
    "def kruskal(matrix):\n",
    "    n = len(matrix)\n",
    "    dist_sample = sorted((matrix[st][ed], st,ed) for st in range(n) for ed in range(n) if st != ed and matrix[st][ed] > 0)\n",
    "    \n",
    "    prv = [None] * n\n",
    "    dist_lst = [0] * n\n",
    "    dist, st, ed = dist_sample[0]\n",
    "    \n",
    "    prv[st] = ed\n",
    "    prv[ed] = st\n",
    "    road_stack =  [(st,ed)]\n",
    "    dist_lst = [dist]\n",
    "    \n",
    "    for i in range(1, n):\n",
    "        dist, st, ed = dist_sample[i]\n",
    "        if prv[st] != None and prv[ed] != None:\n",
    "            continue\n",
    "        \n",
    "        if prv[st] == None:\n",
    "            prv[st] = ed    \n",
    "        if prv[ed] == None:\n",
    "            prv[ed] = st\n",
    "            \n",
    "        dist_lst.append(dist)\n",
    "        road_stack.append((st,ed))\n",
    "        \n",
    "        if len(dist_lst)  == n:\n",
    "            return dist_lst, road_stack\n",
    "    "
   ]
  },
  {
   "cell_type": "code",
   "execution_count": null,
   "metadata": {
    "collapsed": true
   },
   "outputs": [],
   "source": []
  }
 ],
 "metadata": {
  "anaconda-cloud": {},
  "kernelspec": {
   "display_name": "Python [conda env:Anaconda3]",
   "language": "python",
   "name": "conda-env-Anaconda3-py"
  },
  "language_info": {
   "codemirror_mode": {
    "name": "ipython",
    "version": 3
   },
   "file_extension": ".py",
   "mimetype": "text/x-python",
   "name": "python",
   "nbconvert_exporter": "python",
   "pygments_lexer": "ipython3",
   "version": "3.5.2"
  }
 },
 "nbformat": 4,
 "nbformat_minor": 2
}
