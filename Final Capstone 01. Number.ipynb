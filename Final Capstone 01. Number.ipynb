{
 "cells": [
  {
   "cell_type": "markdown",
   "metadata": {},
   "source": [
    "## Complete Python BootCamp: Go from zero to hero in Python\n",
    "https://goo.gl/EJMxnO\n",
    "\n",
    "### Final Project #Numbers Project\n",
    "    1. pi decimal checker (o)\n",
    "    2. e decimal checker (o)\n",
    "    3. fibonnaci (o)\n",
    "    4. Prime Factorization (o)\n",
    "    5. next Prime (o)\n",
    "    6. Covert WxH Tile\n",
    "    7. mortageReturn (o)\n",
    "    8. changeReturn (o)\n",
    "    9. calculator (o)\n",
    "    10. converter_bin_decimal (o)\n",
    "    11. unit_converter (o)\n",
    "    12. alarm sound (x)\n",
    "    14. Distance Between Two cities (o)\n",
    "    15. Credit Card Validator(o)\n",
    "    16. Tax Calculator\n",
    "    17. Factorial Finder (o)\n",
    "    18. Complex Number Algebra\n",
    "    19. Happy Numbers (o)\n",
    "    20. Number Names \n",
    "    21. Coin Flip Simulation (o)\n",
    "    22. Limit Calculator \n",
    "    23. Fast Exponentiation \n",
    "    "
   ]
  },
  {
   "cell_type": "code",
   "execution_count": 1,
   "metadata": {
    "collapsed": false
   },
   "outputs": [],
   "source": [
    "from math import pi, e\n",
    "from decimal import Decimal, ROUND_HALF_UP\n",
    "\n",
    "def pi_decimal_checker(x, max_check = 100):\n",
    "    i = 0\n",
    "    while round(x,i) == round(pi,i):\n",
    "        if i == max_check: break\n",
    "        i += 1\n",
    "    return i\n",
    "\n",
    "def pi_decimal_checker2(x, max_check = 100):\n",
    "    x = Decimal(x)\n",
    "    pi_dec = Decimal(pi)\n",
    "    \n",
    "    round_option = '.1'\n",
    "    length = 0\n",
    "    while x.quantize(Decimal(round_option), rounding = ROUND_HALF_UP) == pi_dec.quantize(Decimal(round_option), rounding = ROUND_HALF_UP):\n",
    "        length += 1\n",
    "        if length == max_check: break\n",
    "        round_option = '.' + '0' * length + '1'\n",
    "    return length"
   ]
  },
  {
   "cell_type": "code",
   "execution_count": 2,
   "metadata": {
    "collapsed": false
   },
   "outputs": [
    {
     "data": {
      "text/plain": [
       "5"
      ]
     },
     "execution_count": 2,
     "metadata": {},
     "output_type": "execute_result"
    }
   ],
   "source": [
    "pi_decimal_checker2(3.14159, max_check = 100)"
   ]
  },
  {
   "cell_type": "code",
   "execution_count": 3,
   "metadata": {
    "collapsed": true
   },
   "outputs": [],
   "source": [
    "def e_decimal_checker(x, max_check = 100):\n",
    "    i = 0\n",
    "    while round(x,i) == round(e,i):\n",
    "        if i == max_check: break\n",
    "        i += 1\n",
    "    return i\n",
    "\n",
    "def e_decimal_checker2(x, max_check = 100):\n",
    "    x = Decimal(x)\n",
    "    e_dec = Decimal(e)\n",
    "    \n",
    "    round_option = '.1'\n",
    "    length = 0\n",
    "    while x.quantize(Decimal(round_option), rounding = ROUND_HALF_UP) == e_dec.quantize(Decimal(round_option), rounding = ROUND_HALF_UP):\n",
    "        length += 1\n",
    "        if length == max_check: break\n",
    "        round_option = '.' + '0' * length + '1'\n",
    "    return length"
   ]
  },
  {
   "cell_type": "code",
   "execution_count": 4,
   "metadata": {
    "collapsed": false
   },
   "outputs": [
    {
     "data": {
      "text/plain": [
       "0"
      ]
     },
     "execution_count": 4,
     "metadata": {},
     "output_type": "execute_result"
    }
   ],
   "source": [
    "e_decimal_checker(2.19, max_check = 100)"
   ]
  },
  {
   "cell_type": "code",
   "execution_count": 5,
   "metadata": {
    "collapsed": true
   },
   "outputs": [],
   "source": [
    "def fibonnachi(n):\n",
    "    \"\"\"\n",
    "    input\n",
    "        n, integer: n-th fibonnachi that I want \n",
    "    output\n",
    "        post, integer : n-th fibonnachi value\n",
    "    \"\"\"\n",
    "    pass\n",
    "def fibonnachi_iteration(n):\n",
    "    if n < 1: \n",
    "        print('There is no option')\n",
    "        return -1\n",
    "    \n",
    "    prv, post = 0, 1\n",
    "    for _ in range(n): post, prv = (prv+post), post\n",
    "    return post\n",
    "\n",
    "def fibonnachi_recursive(n):\n",
    "    if n < 1:\n",
    "        print('There is no option')\n",
    "        return -1\n",
    "    if n < 3:\n",
    "        return 1\n",
    "    \n",
    "    return fibonnachi_recursive(n-1) + fibonnachi_recursive(n-2)"
   ]
  },
  {
   "cell_type": "code",
   "execution_count": 6,
   "metadata": {
    "collapsed": true
   },
   "outputs": [],
   "source": [
    "def primeFactorization(n):\n",
    "    \"\"\"\n",
    "    input\n",
    "        n, inserted number that will be factorized\n",
    "    output\n",
    "        factor_dict, dictionay {primeNumber : number of appearance}\n",
    "    \"\"\"\n",
    "    pass\n",
    "\n",
    "def primeFactorization_while(n):\n",
    "    factor_dict = {}\n",
    "    i = 2\n",
    "    while n / i >= 1:\n",
    "        cnt = 0\n",
    "        while n % i == 0:\n",
    "            n = n // i\n",
    "            cnt += 1\n",
    "        if cnt > 0:\n",
    "            factor_dict[i] = cnt\n",
    "        i += 1\n",
    "    return factor_dict"
   ]
  },
  {
   "cell_type": "code",
   "execution_count": 7,
   "metadata": {
    "collapsed": false
   },
   "outputs": [
    {
     "name": "stdout",
     "output_type": "stream",
     "text": [
      "17 {17: 1}\n",
      "20 {2: 2, 5: 1}\n",
      "21 {3: 1, 7: 1}\n"
     ]
    }
   ],
   "source": [
    "from random import randint\n",
    "test_int = (randint(10, 30) for _ in range(3))\n",
    "for integer in test_int:\n",
    "    print(integer, primeFactorization_while(integer))"
   ]
  },
  {
   "cell_type": "code",
   "execution_count": 8,
   "metadata": {
    "collapsed": false
   },
   "outputs": [
    {
     "data": {
      "text/plain": [
       "False"
      ]
     },
     "execution_count": 8,
     "metadata": {},
     "output_type": "execute_result"
    }
   ],
   "source": [
    "a = [2,3]\n",
    "b=  7\n",
    "any(b % val == 0 for val in a)"
   ]
  },
  {
   "cell_type": "code",
   "execution_count": 9,
   "metadata": {
    "collapsed": true
   },
   "outputs": [],
   "source": [
    "def nextPrimeNumber():\n",
    "    i = 2\n",
    "    num_round = 0\n",
    "    prime_storage = []\n",
    "    while True:\n",
    "        x = input('Do you want to know the next prime number? Y or N: ')\n",
    "        num_round += 1\n",
    "        if x == 'N':\n",
    "            break\n",
    "        if num_round == 1:\n",
    "            yield i\n",
    "            prime_storage.append(i)\n",
    "            continue\n",
    "        \n",
    "        while any(i % val == 0 for val in prime_storage): i += 1\n",
    "        yield i\n",
    "        prime_storage.append(i)\n",
    "    \n",
    "    yield 'The Game was End' "
   ]
  },
  {
   "cell_type": "code",
   "execution_count": 10,
   "metadata": {
    "collapsed": false
   },
   "outputs": [
    {
     "name": "stdout",
     "output_type": "stream",
     "text": [
      "Do you want to know the next prime number? Y or N: \n",
      "2\n",
      "Do you want to know the next prime number? Y or N: \n",
      "3\n",
      "Do you want to know the next prime number? Y or N: \n",
      "5\n",
      "Do you want to know the next prime number? Y or N: \n",
      "7\n",
      "Do you want to know the next prime number? Y or N: \n",
      "11\n",
      "Do you want to know the next prime number? Y or N: \n",
      "13\n",
      "Do you want to know the next prime number? Y or N: N\n",
      "The Game was End\n"
     ]
    }
   ],
   "source": [
    "for x in nextPrimeNumber(): print(x)"
   ]
  },
  {
   "cell_type": "code",
   "execution_count": 11,
   "metadata": {
    "collapsed": true
   },
   "outputs": [],
   "source": [
    "def coverTile(width, height):\n",
    "    pass"
   ]
  },
  {
   "cell_type": "code",
   "execution_count": 12,
   "metadata": {
    "collapsed": true
   },
   "outputs": [],
   "source": [
    "def mortgageReturn(total_debt, n_term, interest):\n",
    "    \"\"\"\n",
    "    input:\n",
    "        total_debt\n",
    "        n_term: After the n month, you have to pay off\n",
    "        interest\n",
    "    \"\"\"\n",
    "def mortgageReturn_math(total_debt, n_term, interest):\n",
    "    \"\"\"\n",
    "    Output:\n",
    "        a, where total_debt == (a * (r^n - 1)) / (r - 1) == a + a * r + a * r ^2 + ... + a * r^n-1\n",
    "    \"\"\"\n",
    "    r = 1 + interest\n",
    "    right = (r ** n_term - 1) / (r - 1)\n",
    "    a = total_debt / right\n",
    "    return a"
   ]
  },
  {
   "cell_type": "code",
   "execution_count": 13,
   "metadata": {
    "collapsed": true
   },
   "outputs": [],
   "source": [
    "def changeReturn(cost):\n",
    "    currency = [10, 5, 1]\n",
    "    x = int(input('How much money you give to the salesperson? '))\n",
    "    \n",
    "    change = x - cost\n",
    "    change_cnt = []\n",
    "    i = 0\n",
    "    while change > 0:\n",
    "        cnt, change = divmod(change,currency[i])\n",
    "        change_cnt.append([currency[i], cnt])\n",
    "        i += 1\n",
    "    return change_cnt\n",
    "\n",
    "def changeReturn_generator(cost):\n",
    "    currency = [10, 5, 1]\n",
    "    x = int(input('How much money you give to the salesperson? '))\n",
    "    change = x - cost\n",
    "    i = 0\n",
    "    while change > 0:\n",
    "        cnt, change = divmod(change, currency[i])\n",
    "        yield [currency[i], cnt]\n",
    "        i += 1"
   ]
  },
  {
   "cell_type": "code",
   "execution_count": 16,
   "metadata": {
    "collapsed": false
   },
   "outputs": [
    {
     "name": "stdout",
     "output_type": "stream",
     "text": [
      "How much money you give to the salesperson? 400\n"
     ]
    },
    {
     "data": {
      "text/plain": [
       "[[10, 10]]"
      ]
     },
     "execution_count": 16,
     "metadata": {},
     "output_type": "execute_result"
    }
   ],
   "source": [
    "[x for x in changeReturn_generator(300)]"
   ]
  },
  {
   "cell_type": "code",
   "execution_count": 17,
   "metadata": {
    "collapsed": true
   },
   "outputs": [],
   "source": [
    "class Calculator(object):\n",
    "    def __init__(self):\n",
    "        self.strings = None\n",
    "        \n",
    "    def __call__(self, strings):\n",
    "        self.strings = strings\n",
    "        if self._product_checker():\n",
    "            calcul = Parser(self.strings)    \n",
    "        else:\n",
    "            calcul = PlusMins(self.strings)\n",
    "        return calcul.result()\n",
    "            \n",
    "    def _product_checker(self):\n",
    "        operator = (\"*/\")\n",
    "        for x in self.strings:\n",
    "            if x in operator:\n",
    "                return True\n",
    "        return False\n",
    "\n",
    "class PlusMins(object):\n",
    "    def __init__(self, strings):\n",
    "        self.strings = strings\n",
    "        \n",
    "    def _result(self):\n",
    "        strings = self.strings\n",
    "        cum_num = 0\n",
    "        operator_set = [1]\n",
    "        operator = (\"+-\")\n",
    "        nums = (\"0123456789\")\n",
    "        i, n = 0, len(strings)\n",
    "        while i < n:\n",
    "            char = strings[i]\n",
    "            if char == \" \":\n",
    "                i += 1\n",
    "                continue\n",
    "                \n",
    "            if char == \"+\":\n",
    "                operator_set.append(operator_set[-1])\n",
    "            elif char == \"-\":\n",
    "                operator_set.append(-operator_set[-1])\n",
    "            elif char == \"(\":\n",
    "                operator_set.append(operator_set[-1])\n",
    "            elif char == \")\":\n",
    "                operator_set.pop()\n",
    "            elif char in nums:\n",
    "                init = i\n",
    "                while i < n and strings[i] in nums: i += 1\n",
    "                cum_num = self._operator(operator_set.pop(), cum_num, strings[init:i])\n",
    "            i += 1            \n",
    "        return cum_num\n",
    "    \n",
    "    def _operator(self, sign, cum, val):\n",
    "        return cum + val if sign == 1 else cum - val\n",
    "\n",
    "class Product(object):\n",
    "    def __init__(self, strings):\n",
    "        self.strings = strings\n",
    "        \n",
    "    def result(self):\n",
    "        strings = self.strings\n",
    "        i, n = 0, len(strings)\n",
    "        operator = (\"+-\")\n",
    "        operator_p = (\"*/\")\n",
    "        nums = (\"0123456789\")\n",
    "            \n",
    "        new_val, i = self.get_number(strings, i, n)\n",
    "        storage = [[0, new_val], [0, new_val]]\n",
    "        while i < n:   \n",
    "            if strings[i] in operator:\n",
    "                storage = storage[0]\n",
    "                new_val, i = self.get_number(strings, i, n)\n",
    "                storage = [[0, storage[1]+new_val], [storage[1], new_val]]\n",
    "            elif strings[i] in operator_p:\n",
    "                storage = storage[1]\n",
    "                char = strings[i]\n",
    "                i += 1\n",
    "                new_val, i = self.get_number(strings, i, n)\n",
    "                if char == \"*\": storage = [[0, storage[0]+storage[1]*new_val] , [storage[0], storage[1]*new_val]]\n",
    "                else: storage = [[0, storage[0]+storage[1]/new_val] , [storage[0], storage[1]/new_val]]\n",
    "        val = sum(storage[0])\n",
    "        return val\n",
    "\n",
    "    def get_number(self,strings, i, n):\n",
    "        nums = (\"0123456789\")\n",
    "        part_i = i\n",
    "        i += 1\n",
    "        while i < n and strings[i] in nums:\n",
    "            i += 1\n",
    "        return int(strings[part_i:i]),i\n",
    "            \n",
    "\n",
    "class Parser(object):\n",
    "    def __init__(self, strings):\n",
    "        self.strings = strings\n",
    "        \n",
    "    def result(self):\n",
    "        operations = \"+-*/\"\n",
    "        strings = self.strings\n",
    "        i_pos = 0\n",
    "        while True:\n",
    "            i_pos = self.checker_bracket(strings, i_pos)\n",
    "            if i_pos == -1: break      \n",
    "            stack = [i_pos]\n",
    "            i_pos += 1\n",
    "            while stack:\n",
    "                if strings[i_pos] == \"(\":\n",
    "                    stack.append(i_pos)\n",
    "                elif strings[i_pos] == \")\":\n",
    "                    head = stack.pop()\n",
    "                    strings = strings[:head] + str(Product(strings[head+1:i_pos]).result()) + strings[i_pos+1:]\n",
    "                    i_pos = head\n",
    "                i_pos += 1\n",
    "        return Product(strings).result()\n",
    "        \n",
    "    def checker_bracket(self, strings, i):\n",
    "        n = len(strings)\n",
    "        for ix in range(i, n):\n",
    "            if strings[ix] == \"(\":\n",
    "                return ix            \n",
    "        return -1"
   ]
  },
  {
   "cell_type": "code",
   "execution_count": 18,
   "metadata": {
    "collapsed": false
   },
   "outputs": [
    {
     "data": {
      "text/plain": [
       "-23"
      ]
     },
     "execution_count": 18,
     "metadata": {},
     "output_type": "execute_result"
    }
   ],
   "source": [
    "test = Calculator()\n",
    "test(\"3*10+7-6*(10-9+(4+5))\")"
   ]
  },
  {
   "cell_type": "code",
   "execution_count": 19,
   "metadata": {
    "collapsed": true
   },
   "outputs": [],
   "source": [
    "def converter_bin_decimal(x):\n",
    "    if type(x) == str: return int(x,2)\n",
    "    else: return bin(x)[2:]"
   ]
  },
  {
   "cell_type": "code",
   "execution_count": 20,
   "metadata": {
    "collapsed": false
   },
   "outputs": [
    {
     "name": "stdout",
     "output_type": "stream",
     "text": [
      "11110\n",
      "100\n"
     ]
    }
   ],
   "source": [
    "print(converter_bin_decimal(30))\n",
    "print(converter_bin_decimal(converter_bin_decimal(100)))"
   ]
  },
  {
   "cell_type": "code",
   "execution_count": 21,
   "metadata": {
    "collapsed": false
   },
   "outputs": [],
   "source": [
    "class unit_converter:\n",
    "    \"\"\"\n",
    "    Choose Type -> Choose conversion a unit -> Insert val\n",
    "    \"\"\"\n",
    "    unit_kinds = {\n",
    "        'Kg': 'mass', 'g' : 'mass', 'ton' : 'mass',\n",
    "        'F' : 'temp', 'C' : 'temp',\n",
    "        'Dollar' : 'cur', 'Won': 'cur', 'Yen' : 'cur'\n",
    "    }\n",
    "    def __init__(self):\n",
    "        str_format = \"{0:<10} {1:<14} {2:<18} {3:<7}\"\n",
    "        print(str_format.format(\"Insert Type\", \"Original Unit\", \"Transformed Unit\", \"Value\"))\n",
    "        \n",
    "        str_format2 = \"{0:<10}: {1:}\"\n",
    "        print(str_format2.format(\"Type\", \"Unit\"))\n",
    "        print(str_format2.format(\"Mass\", \"g, Kg, ton\"))\n",
    "        print(str_format2.format(\"Temp\", \"F, C\"))\n",
    "        print(str_format2.format(\"Currency\", \"Dollar, Won, Yen\"))\n",
    "        \n",
    "    def __call__(self, org, trf, val, deci = 2):\n",
    "        func = self._choose_kind(org)\n",
    "        return func(org, trf, val, deci)\n",
    "        \n",
    "    def _choose_kind(self, org):\n",
    "        kind_func = {'mass': self.mass, 'cur': self.currency, 'temp':self.temp}\n",
    "        kind = unit_converter.unit_kinds[org]\n",
    "        return kind_func[kind]\n",
    "        \n",
    "    def mass(self,org, trf, val, deci):\n",
    "        up_func = lambda x: 1000 * x\n",
    "        dn_func = lambda x: 0.001 * x\n",
    "        conversions = [['K-g', up_func], ['K-t', dn_func],\n",
    "        ['t-K', up_func], ['g-K', dn_func]]\n",
    "        convert_type = org[0] + '-' + trf[0]\n",
    "        return self.converter(convert_type, conversions, val, deci)\n",
    "        \n",
    "        \n",
    "    def currency(self, org, trf, val):\n",
    "        conversions = ['D-W', 'Y-W', 'D-Y', 'W-D', 'W-Y']\n",
    "        rate = insert()\n",
    "        return val * rate\n",
    "        \n",
    "    \n",
    "    def temp(self,org, trf, val, deci):\n",
    "        conversions = (['F-C', lambda x: (x-32) * 5/9], ['C-F', lambda x: 32 + x * 9/5])\n",
    "        convert_type = org[0] + '-' + trf[0]\n",
    "        return self.converter(convert_type, conversions, val, deci)\n",
    "        \n",
    "    def converter(self, convert_type, conversions, val, deci):\n",
    "        for conversion in conversions:\n",
    "            if conversion[0] == convert_type:\n",
    "                return round(conversion[1](val),deci)"
   ]
  },
  {
   "cell_type": "code",
   "execution_count": 22,
   "metadata": {
    "collapsed": false
   },
   "outputs": [
    {
     "name": "stdout",
     "output_type": "stream",
     "text": [
      "Insert Type Original Unit  Transformed Unit   Value  \n",
      "Type      : Unit\n",
      "Mass      : g, Kg, ton\n",
      "Temp      : F, C\n",
      "Currency  : Dollar, Won, Yen\n"
     ]
    }
   ],
   "source": [
    "convert = unit_converter()"
   ]
  },
  {
   "cell_type": "code",
   "execution_count": 23,
   "metadata": {
    "collapsed": false
   },
   "outputs": [
    {
     "data": {
      "text/plain": [
       "0.03"
      ]
     },
     "execution_count": 23,
     "metadata": {},
     "output_type": "execute_result"
    }
   ],
   "source": [
    "convert('g', 'Kg', 30, deci = 3)"
   ]
  },
  {
   "cell_type": "markdown",
   "metadata": {},
   "source": [
    "Tommorrow Mission : 1) Calculator 작성 2) Web에서 자료 긁어와서 function 안에 넣기"
   ]
  },
  {
   "cell_type": "code",
   "execution_count": 24,
   "metadata": {
    "collapsed": false
   },
   "outputs": [],
   "source": [
    "from datetime import datetime\n",
    "import winsound\n",
    "import time\n",
    "\n",
    "\n",
    "class Alarm():\n",
    "    \n",
    "    def __init__(self, time, sound_path = \"Basic.wav\"):\n",
    "        self.time = []\n",
    "        self.sound_path = sound_path\n",
    "        self.get_alarm()\n",
    "        \n",
    "    def set_time(self,time):\n",
    "        self.time.append(self.set_time(time))\n",
    "        \n",
    "    def get_alarm(self):\n",
    "        #check the time per  miniutes\n",
    "        #multiprocessing?!\n",
    "        while self.time:\n",
    "            cur_time = datetime.now()\n",
    "            if any(a_time.hour() == cur_time.hour() and a_time.minute() == cur_time.minute() for a_time in self.time):\n",
    "                winsound.PlaySound(self.sound_path, winsound.SND_FILENAME)\n",
    "                #get dealy to playing time\n",
    "                self.time.pop(a_time)\n",
    "                \n",
    "            #1분 죽이기\n",
    "            time.sleep(60)\n",
    "            cur_time = datetime.now()\n",
    "    \n",
    "    def sound(self,path):\n",
    "        self.sound_path = path\n",
    "        \n",
    "    def delete(self):\n",
    "        print(self.time)\n",
    "        print(\"Insert the Deleted Time\")\n",
    "        hour = input(\"Hour: \")\n",
    "        minute = input(\"Min: \")\n",
    "        try:\n",
    "            hour = int(hour)\n",
    "            minute = int(minute)\n",
    "            for a_time in self.time:\n",
    "                if a_time.hour() == hour and a_time.minute() == minute:\n",
    "                    self.time.pop(a_time)\n",
    "                    return\n",
    "        except:\n",
    "            print(\"There are no times to delete\")\n",
    "            \n",
    "        "
   ]
  },
  {
   "cell_type": "code",
   "execution_count": 25,
   "metadata": {
    "collapsed": true
   },
   "outputs": [],
   "source": [
    "#from pygeocoder import Geocoder\n",
    "from math import cos, asin, sqrt\n",
    "\n",
    "class CitiyDistance():\n",
    "        \n",
    "    def __call__(self,c_name1, c_name2):\n",
    "        city1 = self.get_position(c_name1)\n",
    "        city2 = self.get_position(c_name2)\n",
    "        unit = \"\"\n",
    "        while unit == \"km\" or unit == \"m\":\n",
    "            unit = str.lower(input('Insert the unit for the distance: km / m'))\n",
    "            if not (unit == \"km\" or unit == \"m\"):\n",
    "                print(\"Please insert the correct unit\")\n",
    "        \n",
    "        distance = self.distance(self, *city1, *city2)\n",
    "        if unit == 'km':\n",
    "            print(distance,'km')\n",
    "        if unit == 'm':\n",
    "            print(self.convert_km_to_mile(distance), 'mile')\n",
    "        \n",
    "    \n",
    "    def get_position(self,c_name):\n",
    "        # crawling the position by c_name\n",
    "        return Geocoder.geocode(c_name)[0].coordinates\n",
    "    \n",
    "    def distance(self, lat1, lon1, lat2, lon2):\n",
    "        p = 0.017453292519943295     #Pi/180\n",
    "        a = 0.5 - cos((lat2 - lat1) * p)/2 + cos(lat1 * p) * cos(lat2 * p) * (1 - cos((lon2 - lon1) * p)) / 2\n",
    "        return 12742 * asin(sqrt(a))\n",
    "    \n",
    "    def convert_km_to_miles(km):\n",
    "        miles_per_km = 0.621371192\n",
    "        return km * miles_per_km\n",
    "\n"
   ]
  },
  {
   "cell_type": "code",
   "execution_count": 26,
   "metadata": {
    "collapsed": true
   },
   "outputs": [],
   "source": [
    "card_owner = {\"Sangeon\": '10356' + 'A'}\n",
    "\n",
    "class CardValidation(object):\n",
    "    BRAND_NAME = [\"visa\", \"mastercard\", \"american express\", \"discover\"]\n",
    "    SIGNIFICANT_DIGIT = []\n",
    "    \n",
    "    def __call__(self):\n",
    "        print(\"Insert Owner Name\")\n",
    "        owner = str.lower(input(\"_: \"))\n",
    "        \n",
    "        print(\"Insert Card Brand\")\n",
    "        brand = \" \"\n",
    "        while brand not in CardValidation.BRAND_NAME: brand = input(\"Brand: _ \")\n",
    "        \n",
    "        print(\"Insert Card Number\")\n",
    "        tot_digit = \"\"\n",
    "        for slot in range(1,5):\n",
    "            digit = \" \"\n",
    "            while digit_checker(digit):\n",
    "                digit_slot = slot + \"th Digit: \"\n",
    "                digit = input(digit_slot)\n",
    "            tot_digit += digit\n",
    "        \n",
    "        if tot_digit == card_owner[owner]: return True\n",
    "        else: return False"
   ]
  },
  {
   "cell_type": "code",
   "execution_count": 27,
   "metadata": {
    "collapsed": false
   },
   "outputs": [],
   "source": [
    "def current_tax():\n",
    "    pass\n",
    "\n",
    "province_tax = current_tax()\n",
    "\n",
    "class TaxCalculaotr():\n",
    "    \n",
    "    def __call__(self, price, province):\n",
    "        return (1 +province_tax[province]) * price\n",
    "\n"
   ]
  },
  {
   "cell_type": "code",
   "execution_count": 28,
   "metadata": {
    "collapsed": false
   },
   "outputs": [],
   "source": [
    "from numpy.random import uniform\n",
    "def coin_flip(n=100):\n",
    "    \n",
    "    head = sum(uniform(0,1,n) > 0.5)\n",
    "    tail = n - head\n",
    "    print(\"Head Number : \", head)\n",
    "    print(\"Tail Number : \", tail)\n",
    "    return head\n",
    "    \n",
    "        "
   ]
  },
  {
   "cell_type": "code",
   "execution_count": 29,
   "metadata": {
    "collapsed": false
   },
   "outputs": [
    {
     "name": "stdout",
     "output_type": "stream",
     "text": [
      "Head Number :  10\n",
      "Tail Number :  10\n"
     ]
    },
    {
     "data": {
      "text/plain": [
       "10"
      ]
     },
     "execution_count": 29,
     "metadata": {},
     "output_type": "execute_result"
    }
   ],
   "source": [
    "coin_flip(20)"
   ]
  },
  {
   "cell_type": "code",
   "execution_count": 30,
   "metadata": {
    "collapsed": true
   },
   "outputs": [],
   "source": [
    "def factorial_finder(n):\n",
    "    if n == 1: return 1\n",
    "    \n",
    "    factorial = []\n",
    "    i = 2\n",
    "    while n != 1:\n",
    "        cnt = 0\n",
    "        while n % i == 0:\n",
    "            cnt += 1\n",
    "            n = n//i\n",
    "        if cnt != 0: factorial.append(str(i)+'^'+str(cnt))\n",
    "        i += 1\n",
    "    \n",
    "    return '*'.join(factorial)\n",
    "\n",
    "def factorial_finder2(n):\n",
    "    if n == 1: return 1\n",
    "    def recursive(n,i):\n",
    "        if n == 1: return ''\n",
    "        cnt = 0\n",
    "        while n % i == 0:\n",
    "            n = n//i\n",
    "            cnt += 1\n",
    "        if cnt == 0: get_string = \"\"\n",
    "        else: get_string = str(i) + \"^\" + str(cnt) + '*'\n",
    "    \n",
    "        strings = get_string + recursive(n,i+1)\n",
    "        return strings\n",
    "        \n",
    "    return recursive(n,2)[:-1]"
   ]
  },
  {
   "cell_type": "code",
   "execution_count": 31,
   "metadata": {
    "collapsed": false
   },
   "outputs": [
    {
     "name": "stdout",
     "output_type": "stream",
     "text": [
      "2^1*5^1\n",
      "2^1*5^1\n"
     ]
    }
   ],
   "source": [
    "print(factorial_finder(10))\n",
    "print(factorial_finder2(10))"
   ]
  },
  {
   "cell_type": "code",
   "execution_count": 32,
   "metadata": {
    "collapsed": true
   },
   "outputs": [],
   "source": [
    "from functools import reduce\n",
    "def happy_number():\n",
    "    while True:\n",
    "        print('Insert the number to check happy or not!')\n",
    "        \n",
    "        x = str(input('_:'))\n",
    "        if not x.isdigit():\n",
    "            print('Please inserting the integer')\n",
    "            continue\n",
    "        \n",
    "        x = reduce(lambda n1,n2: n1+n2, map(int, x))\n",
    "        while x > 9:\n",
    "            x = reduce(lambda n1,n2: n1+n2, map(int, str(x)))\n",
    "        if x == 1: \n",
    "            print('You got a happy number!')\n",
    "            break\n",
    "        else: \n",
    "            print(\"You got a bad number :( \")\n",
    "            print('One More Round')    "
   ]
  },
  {
   "cell_type": "code",
   "execution_count": 33,
   "metadata": {
    "collapsed": false
   },
   "outputs": [
    {
     "name": "stdout",
     "output_type": "stream",
     "text": [
      "Insert the number to check happy or not!\n",
      "_:145\n",
      "You got a happy number!\n"
     ]
    }
   ],
   "source": [
    "happy_number()"
   ]
  },
  {
   "cell_type": "code",
   "execution_count": 57,
   "metadata": {
    "collapsed": false
   },
   "outputs": [],
   "source": [
    "#Suppose given two sorted list, to merge them in order\n",
    "\n"
   ]
  },
  {
   "cell_type": "code",
   "execution_count": 60,
   "metadata": {
    "collapsed": false
   },
   "outputs": [
    {
     "name": "stdout",
     "output_type": "stream",
     "text": [
      "[2, 7]\n",
      "[2, 7, 10]\n",
      "[0, 10]\n",
      "[0, 2, 7, 10, 10]\n",
      "[1, 4]\n",
      "[0, 1, 4]\n",
      "[6, 6]\n",
      "[0, 1, 4, 6, 6]\n",
      "[0, 0, 1, 2, 4, 6, 6, 7, 10, 10]\n"
     ]
    },
    {
     "data": {
      "text/plain": [
       "[0, 0, 1, 2, 4, 6, 6, 7, 10, 10]"
      ]
     },
     "execution_count": 60,
     "metadata": {},
     "output_type": "execute_result"
    }
   ],
   "source": [
    "from random import randint\n",
    "tmp = [randint(0,10) for _ in range(10)]\n",
    "merge_sort(tmp)"
   ]
  },
  {
   "cell_type": "code",
   "execution_count": 38,
   "metadata": {
    "collapsed": false
   },
   "outputs": [],
   "source": [
    "import numpy\n",
    "def closet_number(lst):\n",
    "    lst = numpy.array(lst)\n",
    "    min_val = np.inf\n",
    "    pair = []\n",
    "    for i, part_lst in enumerate(lst):\n",
    "        test = numpy.power(part_lst - lst,2).sum(axis = 1)\n",
    "        cur_pos = numpy.argmin(test[test!=0])\n",
    "        cur_val = test[cur_pos+i]\n",
    "        if min_val < cur_val:\n",
    "            min_val = cur_val\n",
    "            pair = [[i,cur_pos+1]]\n",
    "        elif min_val == cur_val:\n",
    "            pair.append([i,cur_pos+1])\n",
    "    return pair\n",
    "    \n",
    "def closest_number2(lst):\n",
    "    min_val = None\n",
    "    pair = [None, None]\n",
    "    for i, part_cord in enumerate(lst):\n",
    "        for j in range(i+1, len(lst)):\n",
    "            part_cord2 = lst[j]\n",
    "            cur_val = min_calculator(part_cord, part_cord2)\n",
    "            if min_val is None or cur_val < min_val:\n",
    "                min_val = cur_val\n",
    "                pair = [[i,j]]\n",
    "            elif cur_val == min_val:\n",
    "                pair.append([i,j])\n",
    "    return pair, min_val\n",
    "                \n",
    "from math import pow, sqrt\n",
    "def min_calculator(num1, num2):\n",
    "    type_num1 = type(num1)\n",
    "    if type_num1 == list:\n",
    "        return sqrt(sum(pow(val1-val2,2) for val1, val2 in zip(num1, num2)))\n",
    "    if type_num1 == int:\n",
    "        return pow((num1 - num2), 2)"
   ]
  },
  {
   "cell_type": "code",
   "execution_count": null,
   "metadata": {
    "collapsed": true
   },
   "outputs": [],
   "source": []
  },
  {
   "cell_type": "code",
   "execution_count": 40,
   "metadata": {
    "collapsed": true
   },
   "outputs": [],
   "source": []
  },
  {
   "cell_type": "code",
   "execution_count": 19,
   "metadata": {
    "collapsed": false
   },
   "outputs": [
    {
     "name": "stdout",
     "output_type": "stream",
     "text": [
      "[0, 1, 4]\n",
      "[None, 0, 0]\n"
     ]
    }
   ],
   "source": [
    "dist, memo = dijkstra([[0,1,4],[1,0,3],[4,3,0]], 0)\n",
    "print(dist)\n",
    "print(memo)"
   ]
  },
  {
   "cell_type": "markdown",
   "metadata": {},
   "source": [
    "Number\n",
    "Complex Number Algebra - Show addition, multiplication, negation, and inversion of complex numbers in separate functions. (Subtraction and division operations can be made with pairs of these operations.) Print the results for each operation tested.  \n",
    "Number Names - Show how to spell out a number in English. You can use a preexisting implementation or roll your own, but you should support inputs up to at least one million (or the maximum value of your language's default bounded integer type, if that's less). Optional: Support for inputs other than positive integers (like zero, negative integers, and floating-point numbers).  \n",
    "Limit Calculator - Ask the user to enter f(x) and the limit value, then return the value of the limit statement Optional: Make the calculator capable of supporting infinite limits.  \n",
    "Fast Exponentiation - Ask the user to enter 2 integers a and b and output a^b (i.e. pow(a,b)) in O(lg n) time complexity.  \n",
    "\n",
    "---\n",
    "Classic Algorithm\n",
    "Sieve of Eratosthenes - The sieve of Eratosthenes is one of the most efficient ways to find all of the smaller primes (below 10 million or so).  "
   ]
  },
  {
   "cell_type": "code",
   "execution_count": null,
   "metadata": {
    "collapsed": true
   },
   "outputs": [],
   "source": []
  }
 ],
 "metadata": {
  "anaconda-cloud": {},
  "kernelspec": {
   "display_name": "Python [conda env:Anaconda3]",
   "language": "python",
   "name": "conda-env-Anaconda3-py"
  },
  "language_info": {
   "codemirror_mode": {
    "name": "ipython",
    "version": 3
   },
   "file_extension": ".py",
   "mimetype": "text/x-python",
   "name": "python",
   "nbconvert_exporter": "python",
   "pygments_lexer": "ipython3",
   "version": "3.5.2"
  }
 },
 "nbformat": 4,
 "nbformat_minor": 2
}
